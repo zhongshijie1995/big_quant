{
 "cells": [
  {
   "cell_type": "code",
   "execution_count": 2,
   "id": "dfae13d4",
   "metadata": {},
   "outputs": [
    {
     "name": "stdout",
     "output_type": "stream",
     "text": [
      "(1876010, 40)\n",
      "(1875972, 40)\n"
     ]
    }
   ],
   "source": [
    "import pandas as pd\n",
    "\n",
    "data = pd.read_csv('/Users/zhongshijie/Desktop/01-Projects/big_quant/_data/2024-12-08.csv')\n",
    "print(data.shape)\n",
    "data['时间'] = pd.to_datetime(data['时间'])\n",
    "data = data[data['时间'] > '2024-12-05 20:59']\n",
    "print(data.shape)"
   ]
  },
  {
   "cell_type": "markdown",
   "id": "7e36261e-ea41-4682-a6ce-e7992588a1dc",
   "metadata": {},
   "source": [
    "## 采集数据 "
   ]
  },
  {
   "cell_type": "code",
   "execution_count": null,
   "id": "28d84808-7be8-4db4-a6f5-215a92330a40",
   "metadata": {
    "ExecuteTime": {
     "end_time": "2024-12-05T06:02:00.931717800Z",
     "start_time": "2024-12-05T06:01:59.737697800Z"
    }
   },
   "outputs": [],
   "source": [
    "from typing import Callable\n",
    "\n",
    "import efinance as ef\n",
    "import pandas as pd\n",
    "import sklearn.metrics\n",
    "\n",
    "pd.set_option('display.max_columns', None)\n",
    "\n",
    "\n",
    "def collect_future_day_history(deal_func: Callable):\n",
    "    # 1.收集行情ID\n",
    "    base_info = ef.futures.get_futures_base_info()\n",
    "    cod_list = list(\n",
    "        base_info[(base_info['期货名称'].str.contains('主')) & (~base_info['期货名称'].str.contains('次'))]['行情ID'])\n",
    "\n",
    "    # 2.收集历史\n",
    "    history_dict = ef.futures.get_quote_history(cod_list)\n",
    "\n",
    "    # 2.1 处理单个历史\n",
    "    for k, v in history_dict.items():\n",
    "        history_dict[k] = deal_func(v)\n",
    "\n",
    "    # 3. 合并历史\n",
    "    result = pd.concat(history_dict.values())\n",
    "\n",
    "    # 4.返回结果\n",
    "    return result\n",
    "\n",
    "\n",
    "def ft(df: pd.DataFrame):\n",
    "    col_name = '次日涨幅'\n",
    "    df[col_name] = (df['收盘'].shift(-1) - df['收盘']) / df['收盘'] * 100\n",
    "    df = df[df[col_name].notna()]\n",
    "\n",
    "    return df"
   ]
  },
  {
   "cell_type": "code",
   "execution_count": null,
   "id": "6a7615d5-385e-4e8b-ab21-bbc4d9a73e74",
   "metadata": {
    "ExecuteTime": {
     "end_time": "2024-12-05T06:02:01.232077Z",
     "start_time": "2024-12-05T06:02:00.933719700Z"
    }
   },
   "outputs": [],
   "source": [
    "data = collect_future_day_history(ft)\n",
    "\n",
    "data_dict = {\n",
    "    'train': data[data['日期'] < '2024'],\n",
    "    'test': data[data['日期'] >= '2024'],\n",
    "}\n",
    "\n",
    "del data"
   ]
  },
  {
   "cell_type": "markdown",
   "id": "55479024-4d0f-41e4-af35-bdd488926e48",
   "metadata": {},
   "source": [
    "## 处理数据"
   ]
  },
  {
   "cell_type": "code",
   "execution_count": null,
   "id": "d47a6e20-b8c2-41f2-9a13-d9081c7c9925",
   "metadata": {},
   "outputs": [],
   "source": [
    "data_dict['train'].head()"
   ]
  },
  {
   "cell_type": "code",
   "execution_count": null,
   "id": "7d601644-c1b4-4d8c-9ef2-41381c43c716",
   "metadata": {
    "ExecuteTime": {
     "end_time": "2024-12-05T06:02:01.245079700Z",
     "start_time": "2024-12-05T06:02:01.231077400Z"
    }
   },
   "outputs": [],
   "source": [
    "def deal_data(dd, func_list):\n",
    "    for k in dd:\n",
    "        for func in func_list:\n",
    "            dd[k] = func(dd[k], k)\n",
    "\n",
    "\n",
    "def make_flag(odf, k):\n",
    "    df = odf.copy()\n",
    "    df.loc[df['次日涨幅'] > 0, '次日涨幅'] = 1\n",
    "    df.loc[df['次日涨幅'] <= 0, '次日涨幅'] = 0\n",
    "    df['次日涨幅'] = df['次日涨幅'].astype(int)\n",
    "    return df\n",
    "\n",
    "\n",
    "def make_ft(odf, k):\n",
    "    df = odf.copy()\n",
    "\n",
    "    df['价格中间线'] = (df['收盘'] - df['开盘']) / 2\n",
    "    df['开盘-价格中间线'] = df['开盘'] - df['价格中间线']\n",
    "    df['收盘-价格中间线'] = df['收盘'] - df['价格中间线']\n",
    "    df['开盘-价格中间线@收盘_幅'] = df['开盘-价格中间线'] / df['开盘']\n",
    "    df['收盘-价格中间线@收盘_幅'] = df['收盘-价格中间线'] / df['收盘']\n",
    "\n",
    "    df['收盘_上攀幅'] = (df['最高'] - df['收盘']) / df['收盘']\n",
    "    df['收盘_下攀幅'] = (df['最低'] - df['收盘']) / df['收盘']\n",
    "    df['收盘_上下攀幅差'] = df['收盘_上攀幅'] - df['收盘_下攀幅']\n",
    "\n",
    "    df['开盘_上攀幅'] = (df['最高'] - df['开盘']) / df['开盘']\n",
    "    df['开盘_下攀幅'] = (df['最低'] - df['开盘']) / df['开盘']\n",
    "    df['开盘_上下攀幅差'] = df['开盘_上攀幅'] - df['开盘_下攀幅']\n",
    "\n",
    "    df['收盘_上攀幅/成交量'] = df['收盘_上攀幅'] / df['成交量']\n",
    "    df['收盘_下攀幅/成交量'] = df['收盘_下攀幅'] / df['成交量']\n",
    "\n",
    "    df['振幅/涨跌幅'] = df['振幅'] / df['涨跌幅']\n",
    "\n",
    "    df['收盘_上攀幅/涨跌幅'] = df['收盘_上攀幅'] / df['涨跌幅']\n",
    "    df['收盘_下攀幅/涨跌幅'] = df['收盘_下攀幅'] / df['涨跌幅']\n",
    "    df['收盘_上下攀幅差/涨跌幅'] = df['收盘_上下攀幅差'] / df['涨跌幅']\n",
    "\n",
    "    df['开盘_上攀幅/涨跌幅'] = df['开盘_上攀幅'] / df['涨跌幅']\n",
    "    df['开盘_下攀幅/涨跌幅'] = df['开盘_下攀幅'] / df['涨跌幅']\n",
    "    df['开盘_上下攀幅差/涨跌幅'] = df['开盘_上下攀幅差'] / df['涨跌幅']\n",
    "\n",
    "    return df\n",
    "\n",
    "\n",
    "def clean_data(odf, k):\n",
    "    df = odf.copy()\n",
    "    del_col_list = ['期货代码', '日期', '换手率']\n",
    "    for del_col in del_col_list:\n",
    "        del df[del_col]\n",
    "    return df\n",
    "\n",
    "\n",
    "def make_category(odf, k):\n",
    "    df = odf.copy()\n",
    "    for object_col in df.select_dtypes(include=['object']).columns.to_list():\n",
    "        df[object_col] = df[object_col].astype('category')\n",
    "    return df"
   ]
  },
  {
   "cell_type": "code",
   "execution_count": null,
   "id": "3b39f107-1705-4065-9dc4-70b26f66c540",
   "metadata": {
    "ExecuteTime": {
     "end_time": "2024-12-05T06:02:01.359165600Z",
     "start_time": "2024-12-05T06:02:01.241078300Z"
    }
   },
   "outputs": [],
   "source": [
    "deal_data(data_dict, [make_flag, clean_data, make_ft, make_category])"
   ]
  },
  {
   "cell_type": "code",
   "execution_count": null,
   "id": "65465a14fa60832",
   "metadata": {
    "ExecuteTime": {
     "end_time": "2024-12-05T06:02:01.388173100Z",
     "start_time": "2024-12-05T06:02:01.362094900Z"
    },
    "collapsed": false,
    "jupyter": {
     "outputs_hidden": false
    }
   },
   "outputs": [],
   "source": [
    "data_dict['train'].shape"
   ]
  },
  {
   "cell_type": "markdown",
   "id": "733d4375-cbb2-4b87-a115-387538721aad",
   "metadata": {},
   "source": [
    "## 使用数据"
   ]
  },
  {
   "cell_type": "code",
   "execution_count": null,
   "id": "30868181-0b92-4f60-bab5-29dc04f9fdca",
   "metadata": {
    "ExecuteTime": {
     "end_time": "2024-12-05T06:02:01.487087Z",
     "start_time": "2024-12-05T06:02:01.398081300Z"
    }
   },
   "outputs": [],
   "source": [
    "from typing import Dict, Any, List\n",
    "import sklearn\n",
    "import lightgbm as lgb\n",
    "\n",
    "\n",
    "def train(\n",
    "        x: pd.DataFrame,\n",
    "        y: pd.Series,\n",
    "        n_folds: int = 5,\n",
    "        params: dict = None,\n",
    "        feval: Callable = None,\n",
    "        num_boost_round: int = 100,\n",
    "        seed: int = 2024,\n",
    "):\n",
    "    if params is None:\n",
    "        params = {}\n",
    "    result = {}\n",
    "    stratified_k_fold = sklearn.model_selection.StratifiedKFold(n_folds, shuffle=True, random_state=seed)\n",
    "    for k, (train_idx, val_idx) in enumerate(stratified_k_fold.split(x, y)):\n",
    "        # 获取本折数据\n",
    "        print(f'------------ {k} ------------')\n",
    "        object_cols = x.select_dtypes(include=['category']).columns.to_list()\n",
    "        all_data = lgb.Dataset(x, y)\n",
    "        train_data = lgb.Dataset(x.iloc[train_idx], y.iloc[train_idx], categorical_feature=object_cols)\n",
    "        val_data = lgb.Dataset(x.iloc[val_idx], y.iloc[val_idx], categorical_feature=object_cols)\n",
    "        # 开始训练并记录训练数据\n",
    "        eval_result = {}\n",
    "        gbm = lgb.train(\n",
    "            params=params,\n",
    "            train_set=train_data,\n",
    "            valid_sets=[train_data, val_data],\n",
    "            valid_names=['train', 'val'],\n",
    "            feval=feval if feval is not None else None,\n",
    "            callbacks=[lgb.log_evaluation(int(num_boost_round / 5)), lgb.record_evaluation(eval_result)],\n",
    "            num_boost_round=num_boost_round,\n",
    "        )\n",
    "        best_score = dict(gbm.best_score['val'])\n",
    "        print(f'best-best_iteration:[{gbm.best_iteration}], best-score[{best_score}]]')\n",
    "        result[k] = {\n",
    "            'gbm': gbm,\n",
    "            'eval': eval_result,\n",
    "            'feature_importance': pd.DataFrame({'feature_name': gbm.feature_name(), f'{k}': gbm.feature_importance()})\n",
    "        }\n",
    "    return result\n",
    "\n",
    "\n",
    "def show_importance(tr: Dict):\n",
    "    result = pd.DataFrame()\n",
    "    result['feature_name'] = tr[0]['feature_importance']['feature_name']\n",
    "    for k, v in tr.items():\n",
    "        result = pd.merge(result, v['feature_importance'], on='feature_name', how='left')\n",
    "    result['feature_importance'] = result[[str(x) for x in range(len(tr))]].mean(axis=1)\n",
    "    result.sort_values(by='feature_importance', inplace=True, ascending=False)\n",
    "    return result\n",
    "\n",
    "\n",
    "def pred(\n",
    "        tr: Dict[str, Any],\n",
    "        x: pd.DataFrame,\n",
    "        y: pd.Series = None,\n",
    "        n_folds: int = 5,\n",
    "        check_func_list: List[Callable] = None,\n",
    "):\n",
    "    result = x.copy()\n",
    "    result['pred-mean'] = 0\n",
    "    for k, v in tr.items():\n",
    "        result['pred-mean'] += (v['gbm'].predict(x) / n_folds)\n",
    "    if y is not None:\n",
    "        result['real'] = y\n",
    "        if check_func_list is not None:\n",
    "            for check_func in check_func_list:\n",
    "                print('回测结果', check_func(result['pred-mean'], result['real']))\n",
    "    return result\n",
    "\n",
    "\n",
    "def roc_auc(y_pred, y_true):\n",
    "    func_name = 'ROC_AUC'\n",
    "    score = sklearn.metrics.roc_auc_score(y_true, y_pred)\n",
    "    is_higher_better = True\n",
    "    return func_name, score, is_higher_better\n",
    "\n",
    "\n",
    "def ks(y_pred, y_true):\n",
    "    func_name = 'KS'\n",
    "    fpr, tpr, thr = sklearn.metrics.roc_curve(y_true, y_pred)\n",
    "    score = max(tpr - fpr)\n",
    "    is_higher_better = True\n",
    "    return func_name, score, is_higher_better\n"
   ]
  },
  {
   "cell_type": "code",
   "execution_count": null,
   "id": "c15f9bdb-30de-44cf-8d98-28017797989a",
   "metadata": {
    "ExecuteTime": {
     "end_time": "2024-12-05T06:02:08.283189300Z",
     "start_time": "2024-12-05T06:02:01.442083900Z"
    }
   },
   "outputs": [],
   "source": [
    "kn = 5\n",
    "\n",
    "train_result = train(\n",
    "    x=data_dict['train'].iloc[:, ~data_dict['train'].columns.isin(['次日涨幅'])],\n",
    "    y=data_dict['train']['次日涨幅'],\n",
    "    n_folds=kn,\n",
    "    params={\n",
    "        'objective': 'binary',\n",
    "        'metric': ['auc'],\n",
    "        'verbose': -1,\n",
    "        'n_jobs': 10,\n",
    "        'learning_rate': 0.01,\n",
    "        'early_stopping_round': 300,\n",
    "    },\n",
    "    num_boost_round=1000,\n",
    ")\n",
    "\n",
    "display(show_importance(train_result))\n",
    "\n",
    "pred_result = pred(\n",
    "    tr=train_result,\n",
    "    x=data_dict['test'].iloc[:, ~data_dict['test'].columns.isin(['次日涨幅'])],\n",
    "    y=data_dict['test']['次日涨幅'],\n",
    "    n_folds=kn,\n",
    "    check_func_list=[roc_auc, ks]\n",
    ")"
   ]
  },
  {
   "cell_type": "code",
   "execution_count": null,
   "id": "564719dd-85c1-446d-a0c0-5cc0218629ed",
   "metadata": {},
   "outputs": [],
   "source": []
  }
 ],
 "metadata": {
  "kernelspec": {
   "display_name": "big_quant",
   "language": "python",
   "name": "python3"
  },
  "language_info": {
   "codemirror_mode": {
    "name": "ipython",
    "version": 3
   },
   "file_extension": ".py",
   "mimetype": "text/x-python",
   "name": "python",
   "nbconvert_exporter": "python",
   "pygments_lexer": "ipython3",
   "version": "3.9.20"
  }
 },
 "nbformat": 4,
 "nbformat_minor": 5
}
